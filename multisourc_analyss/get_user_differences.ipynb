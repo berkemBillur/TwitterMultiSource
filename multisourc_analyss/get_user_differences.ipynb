{
 "cells": [
  {
   "cell_type": "markdown",
   "metadata": {},
   "source": [
    "## user cols"
   ]
  },
  {
   "cell_type": "code",
   "execution_count": 6,
   "metadata": {},
   "outputs": [],
   "source": [
    "user_cols = [ 'user_neg_mean',\n",
    " 'user_neu_mean',\n",
    " 'user_pos_mean',\n",
    " 'user_comp_mean',\n",
    " 'user_arts_&_culture_mean',\n",
    " 'user_business_&_entrepreneurs_mean',\n",
    " 'user_celebrity_&_pop_culture_mean',\n",
    " 'user_diaries_&_daily_life_mean',\n",
    " 'user_family_mean',\n",
    " 'user_fashion_&_style_mean',\n",
    " 'user_film_tv_&_video_mean',\n",
    " 'user_fitness_&_health_mean',\n",
    " 'user_food_&_dining_mean',\n",
    " 'user_gaming_mean',\n",
    " 'user_learning_&_educational_mean',\n",
    " 'user_music_mean',\n",
    " 'user_news_&_social_concern_mean',\n",
    " 'user_other_hobbies_mean',\n",
    " 'user_relationships_mean',\n",
    " 'user_science_&_technology_mean',\n",
    " 'user_sports_mean',\n",
    " 'user_travel_&_adventure_mean',\n",
    " 'user_youth_&_student_life_mean',\n",
    " 'user_hateful_mean',\n",
    " 'user_targeted_mean',\n",
    " 'user_aggressive_mean',\n",
    " 'user_joy_mean',\n",
    " 'user_sadness_mean',\n",
    " 'user_others_mean',\n",
    " 'user_anger_mean',\n",
    " 'user_surprise_mean',\n",
    " 'user_disgust_mean',\n",
    " 'user_fear_mean',\n",
    " 'user_topic_mode',\n",
    " 'user_negative_count',\n",
    " 'user_neutral_count',\n",
    " 'user_positive_count',\n",
    " 'user_arts_&_culture_count',\n",
    " 'user_business_&_entrepreneurs_count',\n",
    " 'user_celebrity_&_pop_culture_count',\n",
    " 'user_diaries_&_daily_life_count',\n",
    " 'user_family_count',\n",
    " 'user_fashion_&_style_count',\n",
    " 'user_film_tv_&_video_count',\n",
    " 'user_fitness_&_health_count',\n",
    " 'user_food_&_dining_count',\n",
    " 'user_gaming_count',\n",
    " 'user_learning_&_educational_count',\n",
    " 'user_music_count',\n",
    " 'user_news_&_social_concern_count',\n",
    " 'user_other_hobbies_count',\n",
    " 'user_relationships_count',\n",
    " 'user_science_&_technology_count',\n",
    " 'user_sports_count',\n",
    " 'user_travel_&_adventure_count',\n",
    " 'user_youth_&_student_life_count',\n",
    " 'user_politeness_mean',\n",
    " 'user_polarity_mean',\n",
    " 'user_subjectivity_mean',\n",
    " 'num_male','num_female']"
   ]
  },
  {
   "cell_type": "markdown",
   "metadata": {},
   "source": [
    "## main func"
   ]
  },
  {
   "cell_type": "code",
   "execution_count": 1,
   "metadata": {},
   "outputs": [
    {
     "name": "stderr",
     "output_type": "stream",
     "text": [
      "c:\\Users\\berke\\anaconda3\\envs\\env-pytorch\\lib\\site-packages\\numpy\\_distributor_init.py:30: UserWarning: loaded more than 1 DLL from .libs:\n",
      "c:\\Users\\berke\\anaconda3\\envs\\env-pytorch\\lib\\site-packages\\numpy\\.libs\\libopenblas.EL2C6PLE4ZYW3ECEVIV3OXXGRN2NRFM2.gfortran-win_amd64.dll\n",
      "c:\\Users\\berke\\anaconda3\\envs\\env-pytorch\\lib\\site-packages\\numpy\\.libs\\libopenblas.JPIJNSWNNAN3CE6LLI5FWSPHUT2VXMTH.gfortran-win_amd64.dll\n",
      "  warnings.warn(\"loaded more than 1 DLL from .libs:\"\n"
     ]
    }
   ],
   "source": [
    "import pandas as pd \n",
    "import pickle\n",
    "import json\n",
    "import os\n",
    "import os.path\n",
    "import numpy as np\n",
    "import seaborn as sns\n",
    "from collections import defaultdict\n",
    "import joblib\n",
    "import matplotlib.pyplot as plt\n",
    "from matplotlib.ticker import (\n",
    "                               FormatStrFormatter, \n",
    "                               AutoMinorLocator,\n",
    "                               FuncFormatter,\n",
    "                               )\n",
    "import matplotlib.dates as mdates\n",
    "from matplotlib.dates import DateFormatter\n",
    "%matplotlib inline\n",
    "from scipy.spatial import distance\n",
    "import math\n",
    "\n",
    "\n",
    "import os\n",
    "os.chdir('G:\\My Drive\\MSc_project\\.MAIN')\n"
   ]
  },
  {
   "cell_type": "code",
   "execution_count": 19,
   "metadata": {},
   "outputs": [
    {
     "name": "stderr",
     "output_type": "stream",
     "text": [
      "C:\\Users\\berke\\AppData\\Local\\Temp\\ipykernel_27884\\3123863060.py:26: SettingWithCopyWarning: \n",
      "A value is trying to be set on a copy of a slice from a DataFrame\n",
      "\n",
      "See the caveats in the documentation: https://pandas.pydata.org/pandas-docs/stable/user_guide/indexing.html#returning-a-view-versus-a-copy\n",
      "  sub.drop(['is-target','is-infector','is-informer'], inplace = True, axis =1)\n",
      "C:\\Users\\berke\\AppData\\Local\\Temp\\ipykernel_27884\\3123863060.py:26: SettingWithCopyWarning: \n",
      "A value is trying to be set on a copy of a slice from a DataFrame\n",
      "\n",
      "See the caveats in the documentation: https://pandas.pydata.org/pandas-docs/stable/user_guide/indexing.html#returning-a-view-versus-a-copy\n",
      "  sub.drop(['is-target','is-infector','is-informer'], inplace = True, axis =1)\n",
      "C:\\Users\\berke\\AppData\\Local\\Temp\\ipykernel_27884\\3123863060.py:26: SettingWithCopyWarning: \n",
      "A value is trying to be set on a copy of a slice from a DataFrame\n",
      "\n",
      "See the caveats in the documentation: https://pandas.pydata.org/pandas-docs/stable/user_guide/indexing.html#returning-a-view-versus-a-copy\n",
      "  sub.drop(['is-target','is-infector','is-informer'], inplace = True, axis =1)\n"
     ]
    },
    {
     "name": "stdout",
     "output_type": "stream",
     "text": [
      "\n",
      "\n",
      "Added avengers to DATAFRAME\n",
      "----------------------------------------------------------------\n"
     ]
    },
    {
     "name": "stderr",
     "output_type": "stream",
     "text": [
      "C:\\Users\\berke\\AppData\\Local\\Temp\\ipykernel_27884\\3123863060.py:26: SettingWithCopyWarning: \n",
      "A value is trying to be set on a copy of a slice from a DataFrame\n",
      "\n",
      "See the caveats in the documentation: https://pandas.pydata.org/pandas-docs/stable/user_guide/indexing.html#returning-a-view-versus-a-copy\n",
      "  sub.drop(['is-target','is-infector','is-informer'], inplace = True, axis =1)\n",
      "C:\\Users\\berke\\AppData\\Local\\Temp\\ipykernel_27884\\3123863060.py:26: SettingWithCopyWarning: \n",
      "A value is trying to be set on a copy of a slice from a DataFrame\n",
      "\n",
      "See the caveats in the documentation: https://pandas.pydata.org/pandas-docs/stable/user_guide/indexing.html#returning-a-view-versus-a-copy\n",
      "  sub.drop(['is-target','is-infector','is-informer'], inplace = True, axis =1)\n",
      "C:\\Users\\berke\\AppData\\Local\\Temp\\ipykernel_27884\\3123863060.py:26: SettingWithCopyWarning: \n",
      "A value is trying to be set on a copy of a slice from a DataFrame\n",
      "\n",
      "See the caveats in the documentation: https://pandas.pydata.org/pandas-docs/stable/user_guide/indexing.html#returning-a-view-versus-a-copy\n",
      "  sub.drop(['is-target','is-infector','is-informer'], inplace = True, axis =1)\n"
     ]
    },
    {
     "name": "stdout",
     "output_type": "stream",
     "text": [
      "\n",
      "\n",
      "Added blm to DATAFRAME\n",
      "----------------------------------------------------------------\n"
     ]
    },
    {
     "name": "stderr",
     "output_type": "stream",
     "text": [
      "C:\\Users\\berke\\AppData\\Local\\Temp\\ipykernel_27884\\3123863060.py:26: SettingWithCopyWarning: \n",
      "A value is trying to be set on a copy of a slice from a DataFrame\n",
      "\n",
      "See the caveats in the documentation: https://pandas.pydata.org/pandas-docs/stable/user_guide/indexing.html#returning-a-view-versus-a-copy\n",
      "  sub.drop(['is-target','is-infector','is-informer'], inplace = True, axis =1)\n",
      "C:\\Users\\berke\\AppData\\Local\\Temp\\ipykernel_27884\\3123863060.py:26: SettingWithCopyWarning: \n",
      "A value is trying to be set on a copy of a slice from a DataFrame\n",
      "\n",
      "See the caveats in the documentation: https://pandas.pydata.org/pandas-docs/stable/user_guide/indexing.html#returning-a-view-versus-a-copy\n",
      "  sub.drop(['is-target','is-infector','is-informer'], inplace = True, axis =1)\n",
      "C:\\Users\\berke\\AppData\\Local\\Temp\\ipykernel_27884\\3123863060.py:26: SettingWithCopyWarning: \n",
      "A value is trying to be set on a copy of a slice from a DataFrame\n",
      "\n",
      "See the caveats in the documentation: https://pandas.pydata.org/pandas-docs/stable/user_guide/indexing.html#returning-a-view-versus-a-copy\n",
      "  sub.drop(['is-target','is-infector','is-informer'], inplace = True, axis =1)\n"
     ]
    },
    {
     "name": "stdout",
     "output_type": "stream",
     "text": [
      "\n",
      "\n",
      "Added brexit to DATAFRAME\n",
      "----------------------------------------------------------------\n"
     ]
    },
    {
     "name": "stderr",
     "output_type": "stream",
     "text": [
      "C:\\Users\\berke\\AppData\\Local\\Temp\\ipykernel_27884\\3123863060.py:26: SettingWithCopyWarning: \n",
      "A value is trying to be set on a copy of a slice from a DataFrame\n",
      "\n",
      "See the caveats in the documentation: https://pandas.pydata.org/pandas-docs/stable/user_guide/indexing.html#returning-a-view-versus-a-copy\n",
      "  sub.drop(['is-target','is-infector','is-informer'], inplace = True, axis =1)\n",
      "C:\\Users\\berke\\AppData\\Local\\Temp\\ipykernel_27884\\3123863060.py:26: SettingWithCopyWarning: \n",
      "A value is trying to be set on a copy of a slice from a DataFrame\n",
      "\n",
      "See the caveats in the documentation: https://pandas.pydata.org/pandas-docs/stable/user_guide/indexing.html#returning-a-view-versus-a-copy\n",
      "  sub.drop(['is-target','is-infector','is-informer'], inplace = True, axis =1)\n",
      "C:\\Users\\berke\\AppData\\Local\\Temp\\ipykernel_27884\\3123863060.py:26: SettingWithCopyWarning: \n",
      "A value is trying to be set on a copy of a slice from a DataFrame\n",
      "\n",
      "See the caveats in the documentation: https://pandas.pydata.org/pandas-docs/stable/user_guide/indexing.html#returning-a-view-versus-a-copy\n",
      "  sub.drop(['is-target','is-infector','is-informer'], inplace = True, axis =1)\n"
     ]
    },
    {
     "name": "stdout",
     "output_type": "stream",
     "text": [
      "\n",
      "\n",
      "Added climatechange to DATAFRAME\n",
      "----------------------------------------------------------------\n"
     ]
    },
    {
     "name": "stderr",
     "output_type": "stream",
     "text": [
      "C:\\Users\\berke\\AppData\\Local\\Temp\\ipykernel_27884\\3123863060.py:26: SettingWithCopyWarning: \n",
      "A value is trying to be set on a copy of a slice from a DataFrame\n",
      "\n",
      "See the caveats in the documentation: https://pandas.pydata.org/pandas-docs/stable/user_guide/indexing.html#returning-a-view-versus-a-copy\n",
      "  sub.drop(['is-target','is-infector','is-informer'], inplace = True, axis =1)\n",
      "C:\\Users\\berke\\AppData\\Local\\Temp\\ipykernel_27884\\3123863060.py:26: SettingWithCopyWarning: \n",
      "A value is trying to be set on a copy of a slice from a DataFrame\n",
      "\n",
      "See the caveats in the documentation: https://pandas.pydata.org/pandas-docs/stable/user_guide/indexing.html#returning-a-view-versus-a-copy\n",
      "  sub.drop(['is-target','is-infector','is-informer'], inplace = True, axis =1)\n",
      "C:\\Users\\berke\\AppData\\Local\\Temp\\ipykernel_27884\\3123863060.py:26: SettingWithCopyWarning: \n",
      "A value is trying to be set on a copy of a slice from a DataFrame\n",
      "\n",
      "See the caveats in the documentation: https://pandas.pydata.org/pandas-docs/stable/user_guide/indexing.html#returning-a-view-versus-a-copy\n",
      "  sub.drop(['is-target','is-infector','is-informer'], inplace = True, axis =1)\n"
     ]
    },
    {
     "name": "stdout",
     "output_type": "stream",
     "text": [
      "\n",
      "\n",
      "Added covid to DATAFRAME\n",
      "----------------------------------------------------------------\n"
     ]
    },
    {
     "name": "stderr",
     "output_type": "stream",
     "text": [
      "C:\\Users\\berke\\AppData\\Local\\Temp\\ipykernel_27884\\3123863060.py:26: SettingWithCopyWarning: \n",
      "A value is trying to be set on a copy of a slice from a DataFrame\n",
      "\n",
      "See the caveats in the documentation: https://pandas.pydata.org/pandas-docs/stable/user_guide/indexing.html#returning-a-view-versus-a-copy\n",
      "  sub.drop(['is-target','is-infector','is-informer'], inplace = True, axis =1)\n",
      "C:\\Users\\berke\\AppData\\Local\\Temp\\ipykernel_27884\\3123863060.py:26: SettingWithCopyWarning: \n",
      "A value is trying to be set on a copy of a slice from a DataFrame\n",
      "\n",
      "See the caveats in the documentation: https://pandas.pydata.org/pandas-docs/stable/user_guide/indexing.html#returning-a-view-versus-a-copy\n",
      "  sub.drop(['is-target','is-infector','is-informer'], inplace = True, axis =1)\n",
      "C:\\Users\\berke\\AppData\\Local\\Temp\\ipykernel_27884\\3123863060.py:26: SettingWithCopyWarning: \n",
      "A value is trying to be set on a copy of a slice from a DataFrame\n",
      "\n",
      "See the caveats in the documentation: https://pandas.pydata.org/pandas-docs/stable/user_guide/indexing.html#returning-a-view-versus-a-copy\n",
      "  sub.drop(['is-target','is-infector','is-informer'], inplace = True, axis =1)\n"
     ]
    },
    {
     "name": "stdout",
     "output_type": "stream",
     "text": [
      "\n",
      "\n",
      "Added gaza to DATAFRAME\n",
      "----------------------------------------------------------------\n"
     ]
    },
    {
     "name": "stderr",
     "output_type": "stream",
     "text": [
      "C:\\Users\\berke\\AppData\\Local\\Temp\\ipykernel_27884\\3123863060.py:26: SettingWithCopyWarning: \n",
      "A value is trying to be set on a copy of a slice from a DataFrame\n",
      "\n",
      "See the caveats in the documentation: https://pandas.pydata.org/pandas-docs/stable/user_guide/indexing.html#returning-a-view-versus-a-copy\n",
      "  sub.drop(['is-target','is-infector','is-informer'], inplace = True, axis =1)\n",
      "C:\\Users\\berke\\AppData\\Local\\Temp\\ipykernel_27884\\3123863060.py:26: SettingWithCopyWarning: \n",
      "A value is trying to be set on a copy of a slice from a DataFrame\n",
      "\n",
      "See the caveats in the documentation: https://pandas.pydata.org/pandas-docs/stable/user_guide/indexing.html#returning-a-view-versus-a-copy\n",
      "  sub.drop(['is-target','is-infector','is-informer'], inplace = True, axis =1)\n",
      "C:\\Users\\berke\\AppData\\Local\\Temp\\ipykernel_27884\\3123863060.py:26: SettingWithCopyWarning: \n",
      "A value is trying to be set on a copy of a slice from a DataFrame\n",
      "\n",
      "See the caveats in the documentation: https://pandas.pydata.org/pandas-docs/stable/user_guide/indexing.html#returning-a-view-versus-a-copy\n",
      "  sub.drop(['is-target','is-infector','is-informer'], inplace = True, axis =1)\n"
     ]
    },
    {
     "name": "stdout",
     "output_type": "stream",
     "text": [
      "\n",
      "\n",
      "Added loveisland to DATAFRAME\n",
      "----------------------------------------------------------------\n"
     ]
    },
    {
     "name": "stderr",
     "output_type": "stream",
     "text": [
      "C:\\Users\\berke\\AppData\\Local\\Temp\\ipykernel_27884\\3123863060.py:26: SettingWithCopyWarning: \n",
      "A value is trying to be set on a copy of a slice from a DataFrame\n",
      "\n",
      "See the caveats in the documentation: https://pandas.pydata.org/pandas-docs/stable/user_guide/indexing.html#returning-a-view-versus-a-copy\n",
      "  sub.drop(['is-target','is-infector','is-informer'], inplace = True, axis =1)\n",
      "C:\\Users\\berke\\AppData\\Local\\Temp\\ipykernel_27884\\3123863060.py:26: SettingWithCopyWarning: \n",
      "A value is trying to be set on a copy of a slice from a DataFrame\n",
      "\n",
      "See the caveats in the documentation: https://pandas.pydata.org/pandas-docs/stable/user_guide/indexing.html#returning-a-view-versus-a-copy\n",
      "  sub.drop(['is-target','is-infector','is-informer'], inplace = True, axis =1)\n",
      "C:\\Users\\berke\\AppData\\Local\\Temp\\ipykernel_27884\\3123863060.py:26: SettingWithCopyWarning: \n",
      "A value is trying to be set on a copy of a slice from a DataFrame\n",
      "\n",
      "See the caveats in the documentation: https://pandas.pydata.org/pandas-docs/stable/user_guide/indexing.html#returning-a-view-versus-a-copy\n",
      "  sub.drop(['is-target','is-infector','is-informer'], inplace = True, axis =1)\n"
     ]
    },
    {
     "name": "stdout",
     "output_type": "stream",
     "text": [
      "\n",
      "\n",
      "Added monkeypox to DATAFRAME\n",
      "----------------------------------------------------------------\n"
     ]
    },
    {
     "name": "stderr",
     "output_type": "stream",
     "text": [
      "C:\\Users\\berke\\AppData\\Local\\Temp\\ipykernel_27884\\3123863060.py:26: SettingWithCopyWarning: \n",
      "A value is trying to be set on a copy of a slice from a DataFrame\n",
      "\n",
      "See the caveats in the documentation: https://pandas.pydata.org/pandas-docs/stable/user_guide/indexing.html#returning-a-view-versus-a-copy\n",
      "  sub.drop(['is-target','is-infector','is-informer'], inplace = True, axis =1)\n",
      "C:\\Users\\berke\\AppData\\Local\\Temp\\ipykernel_27884\\3123863060.py:26: SettingWithCopyWarning: \n",
      "A value is trying to be set on a copy of a slice from a DataFrame\n",
      "\n",
      "See the caveats in the documentation: https://pandas.pydata.org/pandas-docs/stable/user_guide/indexing.html#returning-a-view-versus-a-copy\n",
      "  sub.drop(['is-target','is-infector','is-informer'], inplace = True, axis =1)\n",
      "C:\\Users\\berke\\AppData\\Local\\Temp\\ipykernel_27884\\3123863060.py:26: SettingWithCopyWarning: \n",
      "A value is trying to be set on a copy of a slice from a DataFrame\n",
      "\n",
      "See the caveats in the documentation: https://pandas.pydata.org/pandas-docs/stable/user_guide/indexing.html#returning-a-view-versus-a-copy\n",
      "  sub.drop(['is-target','is-infector','is-informer'], inplace = True, axis =1)\n"
     ]
    },
    {
     "name": "stdout",
     "output_type": "stream",
     "text": [
      "\n",
      "\n",
      "Added nhs to DATAFRAME\n",
      "----------------------------------------------------------------\n"
     ]
    },
    {
     "name": "stderr",
     "output_type": "stream",
     "text": [
      "C:\\Users\\berke\\AppData\\Local\\Temp\\ipykernel_27884\\3123863060.py:26: SettingWithCopyWarning: \n",
      "A value is trying to be set on a copy of a slice from a DataFrame\n",
      "\n",
      "See the caveats in the documentation: https://pandas.pydata.org/pandas-docs/stable/user_guide/indexing.html#returning-a-view-versus-a-copy\n",
      "  sub.drop(['is-target','is-infector','is-informer'], inplace = True, axis =1)\n",
      "C:\\Users\\berke\\AppData\\Local\\Temp\\ipykernel_27884\\3123863060.py:26: SettingWithCopyWarning: \n",
      "A value is trying to be set on a copy of a slice from a DataFrame\n",
      "\n",
      "See the caveats in the documentation: https://pandas.pydata.org/pandas-docs/stable/user_guide/indexing.html#returning-a-view-versus-a-copy\n",
      "  sub.drop(['is-target','is-infector','is-informer'], inplace = True, axis =1)\n",
      "C:\\Users\\berke\\AppData\\Local\\Temp\\ipykernel_27884\\3123863060.py:26: SettingWithCopyWarning: \n",
      "A value is trying to be set on a copy of a slice from a DataFrame\n",
      "\n",
      "See the caveats in the documentation: https://pandas.pydata.org/pandas-docs/stable/user_guide/indexing.html#returning-a-view-versus-a-copy\n",
      "  sub.drop(['is-target','is-infector','is-informer'], inplace = True, axis =1)\n"
     ]
    },
    {
     "name": "stdout",
     "output_type": "stream",
     "text": [
      "\n",
      "\n",
      "Added olivianewtonjohn to DATAFRAME\n",
      "----------------------------------------------------------------\n"
     ]
    },
    {
     "name": "stderr",
     "output_type": "stream",
     "text": [
      "C:\\Users\\berke\\AppData\\Local\\Temp\\ipykernel_27884\\3123863060.py:26: SettingWithCopyWarning: \n",
      "A value is trying to be set on a copy of a slice from a DataFrame\n",
      "\n",
      "See the caveats in the documentation: https://pandas.pydata.org/pandas-docs/stable/user_guide/indexing.html#returning-a-view-versus-a-copy\n",
      "  sub.drop(['is-target','is-infector','is-informer'], inplace = True, axis =1)\n",
      "C:\\Users\\berke\\AppData\\Local\\Temp\\ipykernel_27884\\3123863060.py:26: SettingWithCopyWarning: \n",
      "A value is trying to be set on a copy of a slice from a DataFrame\n",
      "\n",
      "See the caveats in the documentation: https://pandas.pydata.org/pandas-docs/stable/user_guide/indexing.html#returning-a-view-versus-a-copy\n",
      "  sub.drop(['is-target','is-infector','is-informer'], inplace = True, axis =1)\n",
      "C:\\Users\\berke\\AppData\\Local\\Temp\\ipykernel_27884\\3123863060.py:26: SettingWithCopyWarning: \n",
      "A value is trying to be set on a copy of a slice from a DataFrame\n",
      "\n",
      "See the caveats in the documentation: https://pandas.pydata.org/pandas-docs/stable/user_guide/indexing.html#returning-a-view-versus-a-copy\n",
      "  sub.drop(['is-target','is-infector','is-informer'], inplace = True, axis =1)\n"
     ]
    },
    {
     "name": "stdout",
     "output_type": "stream",
     "text": [
      "\n",
      "\n",
      "Added supercup to DATAFRAME\n",
      "----------------------------------------------------------------\n"
     ]
    },
    {
     "name": "stderr",
     "output_type": "stream",
     "text": [
      "C:\\Users\\berke\\AppData\\Local\\Temp\\ipykernel_27884\\3123863060.py:26: SettingWithCopyWarning: \n",
      "A value is trying to be set on a copy of a slice from a DataFrame\n",
      "\n",
      "See the caveats in the documentation: https://pandas.pydata.org/pandas-docs/stable/user_guide/indexing.html#returning-a-view-versus-a-copy\n",
      "  sub.drop(['is-target','is-infector','is-informer'], inplace = True, axis =1)\n",
      "C:\\Users\\berke\\AppData\\Local\\Temp\\ipykernel_27884\\3123863060.py:26: SettingWithCopyWarning: \n",
      "A value is trying to be set on a copy of a slice from a DataFrame\n",
      "\n",
      "See the caveats in the documentation: https://pandas.pydata.org/pandas-docs/stable/user_guide/indexing.html#returning-a-view-versus-a-copy\n",
      "  sub.drop(['is-target','is-infector','is-informer'], inplace = True, axis =1)\n",
      "C:\\Users\\berke\\AppData\\Local\\Temp\\ipykernel_27884\\3123863060.py:26: SettingWithCopyWarning: \n",
      "A value is trying to be set on a copy of a slice from a DataFrame\n",
      "\n",
      "See the caveats in the documentation: https://pandas.pydata.org/pandas-docs/stable/user_guide/indexing.html#returning-a-view-versus-a-copy\n",
      "  sub.drop(['is-target','is-infector','is-informer'], inplace = True, axis =1)\n"
     ]
    },
    {
     "name": "stdout",
     "output_type": "stream",
     "text": [
      "\n",
      "\n",
      "Added UkraineWar to DATAFRAME\n",
      "----------------------------------------------------------------\n"
     ]
    }
   ],
   "source": [
    "\n",
    "hashtags = ['avengers','blm','brexit','climatechange','covid','gaza','loveisland','monkeypox','nhs','olivianewtonjohn','supercup','UkraineWar']\n",
    "\n",
    "\n",
    "for h_i,hashtag in enumerate(hashtags):\n",
    "\n",
    "    cats = ['sentiment', 'topic', 'topic_single', 'irony', 'emoji', 'offensive','gender', 'user_sentiment_mode']\n",
    "\n",
    "    df = pd.read_csv(f'multisource_analysis/user_ft_data/{hashtag}_scored_tweets.csv')\n",
    "    df.drop(['Unnamed: 0', 'text','hashtag','user_id']+cats, inplace = True, axis =1)\n",
    "\n",
    "    # readability statistics are nan when the tweet contains no text. so change these scores to 0\n",
    "    reads = ['ARI','LIX','RIX','complex_words','Coleman-Liau', 'FleschReadingEase', 'GunningFogIndex', 'LIX', 'SMOGIndex', 'RIX', 'DaleChallIndex']\n",
    "    for r in reads:\n",
    "        df[[r]] = df[[r]].fillna(value=0).copy()\n",
    "\n",
    "    cases = list(set(df['target'].tolist()))\n",
    "\n",
    "    target = df[df['is-target']==1]\n",
    "    informers = df[df['is-informer']==1]\n",
    "    infectors = df[df['is-infector']==1]\n",
    "\n",
    "    n = len(infectors)\n",
    "\n",
    "    # clean a little\n",
    "    for sub in [infectors,informers,target]:\n",
    "        sub.drop(['is-target','is-infector','is-informer'], inplace = True, axis =1)\n",
    "\n",
    "    cols = infectors.columns.tolist()\n",
    "\n",
    "    infector_differences = []\n",
    "    informer_differences = []\n",
    "\n",
    "    for case_id in cases:\n",
    "\n",
    "        targ = target.copy()[target['target']==case_id]\n",
    "        o_fect = infectors.copy()[infectors['target']==case_id]\n",
    "        o_formers = informers.copy()[informers['target']==case_id]\n",
    "\n",
    "        targ = targ.copy()[user_cols].to_numpy()\n",
    "        o_fect = o_fect.copy()[user_cols].to_numpy()\n",
    "        o_formers = o_formers.copy()[user_cols].to_numpy()\n",
    "\n",
    "        fect_diff = abs(targ-o_fect)\n",
    "        former_diff = abs(targ-o_formers)\n",
    "\n",
    "        \n",
    "        infector_differences.append(fect_diff.tolist()[0])\n",
    "        informer_differences.extend(former_diff.tolist())\n",
    "\n",
    "    \n",
    "    infector_diff_df = pd.DataFrame(infector_differences)\n",
    "    infector_diff_df.columns = user_cols\n",
    "    informer_diff_df = pd.DataFrame( informer_differences )\n",
    "    informer_diff_df.columns = user_cols\n",
    "\n",
    "    \n",
    "    infector_diff_df.insert(0,column = 'label', value= [1]*len(infector_diff_df) )\n",
    "    informer_diff_df.insert(0,column = 'label', value= [0]*len(informer_diff_df) )\n",
    "    \n",
    "\n",
    "    if h_i == 0:\n",
    "        all_differences = pd.concat([infector_diff_df, informer_diff_df], axis = 0)\n",
    "    else:   \n",
    "        all_differences = pd.concat([all_differences, infector_diff_df, informer_diff_df], axis = 0)\n",
    "    \n",
    "\n",
    "    print(f'\\n\\nAdded {hashtag} to DATAFRAME\\n----------------------------------------------------------------')"
   ]
  },
  {
   "cell_type": "code",
   "execution_count": 23,
   "metadata": {},
   "outputs": [],
   "source": [
    "all_differences.to_csv('multisource_analysis/difference_scores/difference_database.csv')"
   ]
  },
  {
   "cell_type": "markdown",
   "metadata": {},
   "source": [
    "### user columns"
   ]
  },
  {
   "cell_type": "code",
   "execution_count": 4,
   "metadata": {},
   "outputs": [],
   "source": [
    "user_cols = [ 'user_neg_mean',\n",
    " 'user_neu_mean',\n",
    " 'user_pos_mean',\n",
    " 'user_comp_mean',\n",
    " 'user_arts_&_culture_mean',\n",
    " 'user_business_&_entrepreneurs_mean',\n",
    " 'user_celebrity_&_pop_culture_mean',\n",
    " 'user_diaries_&_daily_life_mean',\n",
    " 'user_family_mean',\n",
    " 'user_fashion_&_style_mean',\n",
    " 'user_film_tv_&_video_mean',\n",
    " 'user_fitness_&_health_mean',\n",
    " 'user_food_&_dining_mean',\n",
    " 'user_gaming_mean',\n",
    " 'user_learning_&_educational_mean',\n",
    " 'user_music_mean',\n",
    " 'user_news_&_social_concern_mean',\n",
    " 'user_other_hobbies_mean',\n",
    " 'user_relationships_mean',\n",
    " 'user_science_&_technology_mean',\n",
    " 'user_sports_mean',\n",
    " 'user_travel_&_adventure_mean',\n",
    " 'user_youth_&_student_life_mean',\n",
    " 'user_hateful_mean',\n",
    " 'user_targeted_mean',\n",
    " 'user_aggressive_mean',\n",
    " 'user_joy_mean',\n",
    " 'user_sadness_mean',\n",
    " 'user_others_mean',\n",
    " 'user_anger_mean',\n",
    " 'user_surprise_mean',\n",
    " 'user_disgust_mean',\n",
    " 'user_fear_mean',\n",
    " 'user_topic_mode',\n",
    " 'user_negative_count',\n",
    " 'user_neutral_count',\n",
    " 'user_positive_count',\n",
    " 'user_arts_&_culture_count',\n",
    " 'user_business_&_entrepreneurs_count',\n",
    " 'user_celebrity_&_pop_culture_count',\n",
    " 'user_diaries_&_daily_life_count',\n",
    " 'user_family_count',\n",
    " 'user_fashion_&_style_count',\n",
    " 'user_film_tv_&_video_count',\n",
    " 'user_fitness_&_health_count',\n",
    " 'user_food_&_dining_count',\n",
    " 'user_gaming_count',\n",
    " 'user_learning_&_educational_count',\n",
    " 'user_music_count',\n",
    " 'user_news_&_social_concern_count',\n",
    " 'user_other_hobbies_count',\n",
    " 'user_relationships_count',\n",
    " 'user_science_&_technology_count',\n",
    " 'user_sports_count',\n",
    " 'user_travel_&_adventure_count',\n",
    " 'user_youth_&_student_life_count',\n",
    " 'user_politeness_mean',\n",
    " 'user_polarity_mean',\n",
    " 'user_subjectivity_mean']"
   ]
  },
  {
   "cell_type": "markdown",
   "metadata": {},
   "source": [
    "## get the data functions\n"
   ]
  },
  {
   "cell_type": "code",
   "execution_count": null,
   "metadata": {},
   "outputs": [],
   "source": [
    "\n",
    "\n",
    "for i,col in enumerate(user_cols):\n",
    "\n",
    "    fec = all_infector_df[col].tolist()\n",
    "    targ = all_target_df[col].tolist()\n",
    "    av_form = all_av_informer_df[col].tolist()\n",
    "    best_form = all_best_informer_df[col].tolist()\n",
    "\n",
    "    fect_diff = abs(np.array(targ)-np.array(fec))\n",
    "    inf_diff = abs(np.array(targ)-np.array(best_form))\n",
    "    \n",
    "    if i == 0:\n",
    "        infector_df = pd.DataFrame(fect_diff).T\n",
    "        best_informer_df = pd.DataFrame()\n",
    "\n",
    "best_scores_df = pd.DataFrame(best_scores).T\n",
    "best_scores_df.columns = user_cols\n",
    "best_scores_df= best_scores_df.copy().T\n"
   ]
  }
 ],
 "metadata": {
  "kernelspec": {
   "display_name": "Python 3.9.7 ('env-pytorch')",
   "language": "python",
   "name": "python3"
  },
  "language_info": {
   "codemirror_mode": {
    "name": "ipython",
    "version": 3
   },
   "file_extension": ".py",
   "mimetype": "text/x-python",
   "name": "python",
   "nbconvert_exporter": "python",
   "pygments_lexer": "ipython3",
   "version": "3.9.7"
  },
  "orig_nbformat": 4,
  "vscode": {
   "interpreter": {
    "hash": "59556fecfb9e1650310a175ca5cd58c0b942341d9e7f74cbfe1ccb958d377f3d"
   }
  }
 },
 "nbformat": 4,
 "nbformat_minor": 2
}
