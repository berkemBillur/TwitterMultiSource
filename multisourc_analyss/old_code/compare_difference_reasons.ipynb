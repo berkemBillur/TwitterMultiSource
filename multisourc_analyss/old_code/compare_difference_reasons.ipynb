{
 "cells": [
  {
   "cell_type": "code",
   "execution_count": 1,
   "metadata": {},
   "outputs": [
    {
     "name": "stderr",
     "output_type": "stream",
     "text": [
      "c:\\Users\\berke\\anaconda3\\envs\\env-pytorch\\lib\\site-packages\\numpy\\_distributor_init.py:30: UserWarning: loaded more than 1 DLL from .libs:\n",
      "c:\\Users\\berke\\anaconda3\\envs\\env-pytorch\\lib\\site-packages\\numpy\\.libs\\libopenblas.EL2C6PLE4ZYW3ECEVIV3OXXGRN2NRFM2.gfortran-win_amd64.dll\n",
      "c:\\Users\\berke\\anaconda3\\envs\\env-pytorch\\lib\\site-packages\\numpy\\.libs\\libopenblas.JPIJNSWNNAN3CE6LLI5FWSPHUT2VXMTH.gfortran-win_amd64.dll\n",
      "  warnings.warn(\"loaded more than 1 DLL from .libs:\"\n"
     ]
    }
   ],
   "source": [
    "import pandas as pd \n",
    "import pickle\n",
    "import json\n",
    "import os\n",
    "import os.path\n",
    "import numpy as np\n",
    "import seaborn as sns\n",
    "from collections import defaultdict\n",
    "import joblib\n",
    "import matplotlib.pyplot as plt\n",
    "from matplotlib.ticker import (\n",
    "                               FormatStrFormatter, \n",
    "                               AutoMinorLocator,\n",
    "                               FuncFormatter,\n",
    "                               )\n",
    "import matplotlib.dates as mdates\n",
    "from matplotlib.dates import DateFormatter\n",
    "%matplotlib inline\n",
    "from scipy.spatial import distance\n",
    "import math\n",
    "\n",
    "\n",
    "import os\n",
    "os.chdir('G:\\My Drive\\MSc_project\\.MAIN')\n"
   ]
  },
  {
   "cell_type": "code",
   "execution_count": 2,
   "metadata": {},
   "outputs": [
    {
     "name": "stderr",
     "output_type": "stream",
     "text": [
      "C:\\Users\\berke\\AppData\\Local\\Temp\\ipykernel_37268\\361570906.py:25: SettingWithCopyWarning: \n",
      "A value is trying to be set on a copy of a slice from a DataFrame\n",
      "\n",
      "See the caveats in the documentation: https://pandas.pydata.org/pandas-docs/stable/user_guide/indexing.html#returning-a-view-versus-a-copy\n",
      "  sub.drop(['is-target','is-infector','is-informer'], inplace = True, axis =1)\n",
      "C:\\Users\\berke\\AppData\\Local\\Temp\\ipykernel_37268\\361570906.py:25: SettingWithCopyWarning: \n",
      "A value is trying to be set on a copy of a slice from a DataFrame\n",
      "\n",
      "See the caveats in the documentation: https://pandas.pydata.org/pandas-docs/stable/user_guide/indexing.html#returning-a-view-versus-a-copy\n",
      "  sub.drop(['is-target','is-infector','is-informer'], inplace = True, axis =1)\n",
      "C:\\Users\\berke\\AppData\\Local\\Temp\\ipykernel_37268\\361570906.py:52: SettingWithCopyWarning: \n",
      "A value is trying to be set on a copy of a slice from a DataFrame\n",
      "\n",
      "See the caveats in the documentation: https://pandas.pydata.org/pandas-docs/stable/user_guide/indexing.html#returning-a-view-versus-a-copy\n",
      "  infectors.drop('target', inplace = True, axis =1)\n"
     ]
    },
    {
     "name": "stdout",
     "output_type": "stream",
     "text": [
      "\n",
      "\n",
      "Added avengers to DATAFRAME\n",
      "----------------------------------------------------------------\n"
     ]
    },
    {
     "name": "stderr",
     "output_type": "stream",
     "text": [
      "C:\\Users\\berke\\AppData\\Local\\Temp\\ipykernel_37268\\361570906.py:25: SettingWithCopyWarning: \n",
      "A value is trying to be set on a copy of a slice from a DataFrame\n",
      "\n",
      "See the caveats in the documentation: https://pandas.pydata.org/pandas-docs/stable/user_guide/indexing.html#returning-a-view-versus-a-copy\n",
      "  sub.drop(['is-target','is-infector','is-informer'], inplace = True, axis =1)\n",
      "C:\\Users\\berke\\AppData\\Local\\Temp\\ipykernel_37268\\361570906.py:25: SettingWithCopyWarning: \n",
      "A value is trying to be set on a copy of a slice from a DataFrame\n",
      "\n",
      "See the caveats in the documentation: https://pandas.pydata.org/pandas-docs/stable/user_guide/indexing.html#returning-a-view-versus-a-copy\n",
      "  sub.drop(['is-target','is-infector','is-informer'], inplace = True, axis =1)\n",
      "C:\\Users\\berke\\AppData\\Local\\Temp\\ipykernel_37268\\361570906.py:52: SettingWithCopyWarning: \n",
      "A value is trying to be set on a copy of a slice from a DataFrame\n",
      "\n",
      "See the caveats in the documentation: https://pandas.pydata.org/pandas-docs/stable/user_guide/indexing.html#returning-a-view-versus-a-copy\n",
      "  infectors.drop('target', inplace = True, axis =1)\n"
     ]
    },
    {
     "name": "stdout",
     "output_type": "stream",
     "text": [
      "\n",
      "\n",
      "Added borisjohnson to DATAFRAME\n",
      "----------------------------------------------------------------\n"
     ]
    },
    {
     "name": "stderr",
     "output_type": "stream",
     "text": [
      "C:\\Users\\berke\\AppData\\Local\\Temp\\ipykernel_37268\\361570906.py:25: SettingWithCopyWarning: \n",
      "A value is trying to be set on a copy of a slice from a DataFrame\n",
      "\n",
      "See the caveats in the documentation: https://pandas.pydata.org/pandas-docs/stable/user_guide/indexing.html#returning-a-view-versus-a-copy\n",
      "  sub.drop(['is-target','is-infector','is-informer'], inplace = True, axis =1)\n",
      "C:\\Users\\berke\\AppData\\Local\\Temp\\ipykernel_37268\\361570906.py:25: SettingWithCopyWarning: \n",
      "A value is trying to be set on a copy of a slice from a DataFrame\n",
      "\n",
      "See the caveats in the documentation: https://pandas.pydata.org/pandas-docs/stable/user_guide/indexing.html#returning-a-view-versus-a-copy\n",
      "  sub.drop(['is-target','is-infector','is-informer'], inplace = True, axis =1)\n",
      "C:\\Users\\berke\\AppData\\Local\\Temp\\ipykernel_37268\\361570906.py:52: SettingWithCopyWarning: \n",
      "A value is trying to be set on a copy of a slice from a DataFrame\n",
      "\n",
      "See the caveats in the documentation: https://pandas.pydata.org/pandas-docs/stable/user_guide/indexing.html#returning-a-view-versus-a-copy\n",
      "  infectors.drop('target', inplace = True, axis =1)\n"
     ]
    },
    {
     "name": "stdout",
     "output_type": "stream",
     "text": [
      "\n",
      "\n",
      "Added blm to DATAFRAME\n",
      "----------------------------------------------------------------\n"
     ]
    },
    {
     "name": "stderr",
     "output_type": "stream",
     "text": [
      "C:\\Users\\berke\\AppData\\Local\\Temp\\ipykernel_37268\\361570906.py:25: SettingWithCopyWarning: \n",
      "A value is trying to be set on a copy of a slice from a DataFrame\n",
      "\n",
      "See the caveats in the documentation: https://pandas.pydata.org/pandas-docs/stable/user_guide/indexing.html#returning-a-view-versus-a-copy\n",
      "  sub.drop(['is-target','is-infector','is-informer'], inplace = True, axis =1)\n",
      "C:\\Users\\berke\\AppData\\Local\\Temp\\ipykernel_37268\\361570906.py:25: SettingWithCopyWarning: \n",
      "A value is trying to be set on a copy of a slice from a DataFrame\n",
      "\n",
      "See the caveats in the documentation: https://pandas.pydata.org/pandas-docs/stable/user_guide/indexing.html#returning-a-view-versus-a-copy\n",
      "  sub.drop(['is-target','is-infector','is-informer'], inplace = True, axis =1)\n",
      "C:\\Users\\berke\\AppData\\Local\\Temp\\ipykernel_37268\\361570906.py:52: SettingWithCopyWarning: \n",
      "A value is trying to be set on a copy of a slice from a DataFrame\n",
      "\n",
      "See the caveats in the documentation: https://pandas.pydata.org/pandas-docs/stable/user_guide/indexing.html#returning-a-view-versus-a-copy\n",
      "  infectors.drop('target', inplace = True, axis =1)\n"
     ]
    },
    {
     "name": "stdout",
     "output_type": "stream",
     "text": [
      "\n",
      "\n",
      "Added brexit to DATAFRAME\n",
      "----------------------------------------------------------------\n"
     ]
    },
    {
     "name": "stderr",
     "output_type": "stream",
     "text": [
      "C:\\Users\\berke\\AppData\\Local\\Temp\\ipykernel_37268\\361570906.py:25: SettingWithCopyWarning: \n",
      "A value is trying to be set on a copy of a slice from a DataFrame\n",
      "\n",
      "See the caveats in the documentation: https://pandas.pydata.org/pandas-docs/stable/user_guide/indexing.html#returning-a-view-versus-a-copy\n",
      "  sub.drop(['is-target','is-infector','is-informer'], inplace = True, axis =1)\n",
      "C:\\Users\\berke\\AppData\\Local\\Temp\\ipykernel_37268\\361570906.py:25: SettingWithCopyWarning: \n",
      "A value is trying to be set on a copy of a slice from a DataFrame\n",
      "\n",
      "See the caveats in the documentation: https://pandas.pydata.org/pandas-docs/stable/user_guide/indexing.html#returning-a-view-versus-a-copy\n",
      "  sub.drop(['is-target','is-infector','is-informer'], inplace = True, axis =1)\n",
      "C:\\Users\\berke\\AppData\\Local\\Temp\\ipykernel_37268\\361570906.py:52: SettingWithCopyWarning: \n",
      "A value is trying to be set on a copy of a slice from a DataFrame\n",
      "\n",
      "See the caveats in the documentation: https://pandas.pydata.org/pandas-docs/stable/user_guide/indexing.html#returning-a-view-versus-a-copy\n",
      "  infectors.drop('target', inplace = True, axis =1)\n"
     ]
    },
    {
     "name": "stdout",
     "output_type": "stream",
     "text": [
      "\n",
      "\n",
      "Added climatechange to DATAFRAME\n",
      "----------------------------------------------------------------\n"
     ]
    },
    {
     "name": "stderr",
     "output_type": "stream",
     "text": [
      "C:\\Users\\berke\\AppData\\Local\\Temp\\ipykernel_37268\\361570906.py:25: SettingWithCopyWarning: \n",
      "A value is trying to be set on a copy of a slice from a DataFrame\n",
      "\n",
      "See the caveats in the documentation: https://pandas.pydata.org/pandas-docs/stable/user_guide/indexing.html#returning-a-view-versus-a-copy\n",
      "  sub.drop(['is-target','is-infector','is-informer'], inplace = True, axis =1)\n",
      "C:\\Users\\berke\\AppData\\Local\\Temp\\ipykernel_37268\\361570906.py:25: SettingWithCopyWarning: \n",
      "A value is trying to be set on a copy of a slice from a DataFrame\n",
      "\n",
      "See the caveats in the documentation: https://pandas.pydata.org/pandas-docs/stable/user_guide/indexing.html#returning-a-view-versus-a-copy\n",
      "  sub.drop(['is-target','is-infector','is-informer'], inplace = True, axis =1)\n",
      "C:\\Users\\berke\\AppData\\Local\\Temp\\ipykernel_37268\\361570906.py:52: SettingWithCopyWarning: \n",
      "A value is trying to be set on a copy of a slice from a DataFrame\n",
      "\n",
      "See the caveats in the documentation: https://pandas.pydata.org/pandas-docs/stable/user_guide/indexing.html#returning-a-view-versus-a-copy\n",
      "  infectors.drop('target', inplace = True, axis =1)\n"
     ]
    },
    {
     "name": "stdout",
     "output_type": "stream",
     "text": [
      "\n",
      "\n",
      "Added covid to DATAFRAME\n",
      "----------------------------------------------------------------\n"
     ]
    },
    {
     "name": "stderr",
     "output_type": "stream",
     "text": [
      "C:\\Users\\berke\\AppData\\Local\\Temp\\ipykernel_37268\\361570906.py:25: SettingWithCopyWarning: \n",
      "A value is trying to be set on a copy of a slice from a DataFrame\n",
      "\n",
      "See the caveats in the documentation: https://pandas.pydata.org/pandas-docs/stable/user_guide/indexing.html#returning-a-view-versus-a-copy\n",
      "  sub.drop(['is-target','is-infector','is-informer'], inplace = True, axis =1)\n",
      "C:\\Users\\berke\\AppData\\Local\\Temp\\ipykernel_37268\\361570906.py:25: SettingWithCopyWarning: \n",
      "A value is trying to be set on a copy of a slice from a DataFrame\n",
      "\n",
      "See the caveats in the documentation: https://pandas.pydata.org/pandas-docs/stable/user_guide/indexing.html#returning-a-view-versus-a-copy\n",
      "  sub.drop(['is-target','is-infector','is-informer'], inplace = True, axis =1)\n",
      "C:\\Users\\berke\\AppData\\Local\\Temp\\ipykernel_37268\\361570906.py:52: SettingWithCopyWarning: \n",
      "A value is trying to be set on a copy of a slice from a DataFrame\n",
      "\n",
      "See the caveats in the documentation: https://pandas.pydata.org/pandas-docs/stable/user_guide/indexing.html#returning-a-view-versus-a-copy\n",
      "  infectors.drop('target', inplace = True, axis =1)\n"
     ]
    },
    {
     "name": "stdout",
     "output_type": "stream",
     "text": [
      "\n",
      "\n",
      "Added gaza to DATAFRAME\n",
      "----------------------------------------------------------------\n"
     ]
    },
    {
     "name": "stderr",
     "output_type": "stream",
     "text": [
      "C:\\Users\\berke\\AppData\\Local\\Temp\\ipykernel_37268\\361570906.py:25: SettingWithCopyWarning: \n",
      "A value is trying to be set on a copy of a slice from a DataFrame\n",
      "\n",
      "See the caveats in the documentation: https://pandas.pydata.org/pandas-docs/stable/user_guide/indexing.html#returning-a-view-versus-a-copy\n",
      "  sub.drop(['is-target','is-infector','is-informer'], inplace = True, axis =1)\n",
      "C:\\Users\\berke\\AppData\\Local\\Temp\\ipykernel_37268\\361570906.py:25: SettingWithCopyWarning: \n",
      "A value is trying to be set on a copy of a slice from a DataFrame\n",
      "\n",
      "See the caveats in the documentation: https://pandas.pydata.org/pandas-docs/stable/user_guide/indexing.html#returning-a-view-versus-a-copy\n",
      "  sub.drop(['is-target','is-infector','is-informer'], inplace = True, axis =1)\n",
      "C:\\Users\\berke\\AppData\\Local\\Temp\\ipykernel_37268\\361570906.py:52: SettingWithCopyWarning: \n",
      "A value is trying to be set on a copy of a slice from a DataFrame\n",
      "\n",
      "See the caveats in the documentation: https://pandas.pydata.org/pandas-docs/stable/user_guide/indexing.html#returning-a-view-versus-a-copy\n",
      "  infectors.drop('target', inplace = True, axis =1)\n"
     ]
    },
    {
     "name": "stdout",
     "output_type": "stream",
     "text": [
      "\n",
      "\n",
      "Added loveisland to DATAFRAME\n",
      "----------------------------------------------------------------\n"
     ]
    },
    {
     "name": "stderr",
     "output_type": "stream",
     "text": [
      "C:\\Users\\berke\\AppData\\Local\\Temp\\ipykernel_37268\\361570906.py:25: SettingWithCopyWarning: \n",
      "A value is trying to be set on a copy of a slice from a DataFrame\n",
      "\n",
      "See the caveats in the documentation: https://pandas.pydata.org/pandas-docs/stable/user_guide/indexing.html#returning-a-view-versus-a-copy\n",
      "  sub.drop(['is-target','is-infector','is-informer'], inplace = True, axis =1)\n",
      "C:\\Users\\berke\\AppData\\Local\\Temp\\ipykernel_37268\\361570906.py:25: SettingWithCopyWarning: \n",
      "A value is trying to be set on a copy of a slice from a DataFrame\n",
      "\n",
      "See the caveats in the documentation: https://pandas.pydata.org/pandas-docs/stable/user_guide/indexing.html#returning-a-view-versus-a-copy\n",
      "  sub.drop(['is-target','is-infector','is-informer'], inplace = True, axis =1)\n",
      "C:\\Users\\berke\\AppData\\Local\\Temp\\ipykernel_37268\\361570906.py:52: SettingWithCopyWarning: \n",
      "A value is trying to be set on a copy of a slice from a DataFrame\n",
      "\n",
      "See the caveats in the documentation: https://pandas.pydata.org/pandas-docs/stable/user_guide/indexing.html#returning-a-view-versus-a-copy\n",
      "  infectors.drop('target', inplace = True, axis =1)\n"
     ]
    },
    {
     "name": "stdout",
     "output_type": "stream",
     "text": [
      "\n",
      "\n",
      "Added monkeypox to DATAFRAME\n",
      "----------------------------------------------------------------\n"
     ]
    },
    {
     "name": "stderr",
     "output_type": "stream",
     "text": [
      "C:\\Users\\berke\\AppData\\Local\\Temp\\ipykernel_37268\\361570906.py:25: SettingWithCopyWarning: \n",
      "A value is trying to be set on a copy of a slice from a DataFrame\n",
      "\n",
      "See the caveats in the documentation: https://pandas.pydata.org/pandas-docs/stable/user_guide/indexing.html#returning-a-view-versus-a-copy\n",
      "  sub.drop(['is-target','is-infector','is-informer'], inplace = True, axis =1)\n",
      "C:\\Users\\berke\\AppData\\Local\\Temp\\ipykernel_37268\\361570906.py:25: SettingWithCopyWarning: \n",
      "A value is trying to be set on a copy of a slice from a DataFrame\n",
      "\n",
      "See the caveats in the documentation: https://pandas.pydata.org/pandas-docs/stable/user_guide/indexing.html#returning-a-view-versus-a-copy\n",
      "  sub.drop(['is-target','is-infector','is-informer'], inplace = True, axis =1)\n",
      "C:\\Users\\berke\\AppData\\Local\\Temp\\ipykernel_37268\\361570906.py:52: SettingWithCopyWarning: \n",
      "A value is trying to be set on a copy of a slice from a DataFrame\n",
      "\n",
      "See the caveats in the documentation: https://pandas.pydata.org/pandas-docs/stable/user_guide/indexing.html#returning-a-view-versus-a-copy\n",
      "  infectors.drop('target', inplace = True, axis =1)\n"
     ]
    },
    {
     "name": "stdout",
     "output_type": "stream",
     "text": [
      "\n",
      "\n",
      "Added nhs to DATAFRAME\n",
      "----------------------------------------------------------------\n"
     ]
    },
    {
     "name": "stderr",
     "output_type": "stream",
     "text": [
      "C:\\Users\\berke\\AppData\\Local\\Temp\\ipykernel_37268\\361570906.py:25: SettingWithCopyWarning: \n",
      "A value is trying to be set on a copy of a slice from a DataFrame\n",
      "\n",
      "See the caveats in the documentation: https://pandas.pydata.org/pandas-docs/stable/user_guide/indexing.html#returning-a-view-versus-a-copy\n",
      "  sub.drop(['is-target','is-infector','is-informer'], inplace = True, axis =1)\n",
      "C:\\Users\\berke\\AppData\\Local\\Temp\\ipykernel_37268\\361570906.py:25: SettingWithCopyWarning: \n",
      "A value is trying to be set on a copy of a slice from a DataFrame\n",
      "\n",
      "See the caveats in the documentation: https://pandas.pydata.org/pandas-docs/stable/user_guide/indexing.html#returning-a-view-versus-a-copy\n",
      "  sub.drop(['is-target','is-infector','is-informer'], inplace = True, axis =1)\n",
      "C:\\Users\\berke\\AppData\\Local\\Temp\\ipykernel_37268\\361570906.py:52: SettingWithCopyWarning: \n",
      "A value is trying to be set on a copy of a slice from a DataFrame\n",
      "\n",
      "See the caveats in the documentation: https://pandas.pydata.org/pandas-docs/stable/user_guide/indexing.html#returning-a-view-versus-a-copy\n",
      "  infectors.drop('target', inplace = True, axis =1)\n"
     ]
    },
    {
     "name": "stdout",
     "output_type": "stream",
     "text": [
      "\n",
      "\n",
      "Added olivianewtonjohn to DATAFRAME\n",
      "----------------------------------------------------------------\n"
     ]
    },
    {
     "name": "stderr",
     "output_type": "stream",
     "text": [
      "C:\\Users\\berke\\AppData\\Local\\Temp\\ipykernel_37268\\361570906.py:25: SettingWithCopyWarning: \n",
      "A value is trying to be set on a copy of a slice from a DataFrame\n",
      "\n",
      "See the caveats in the documentation: https://pandas.pydata.org/pandas-docs/stable/user_guide/indexing.html#returning-a-view-versus-a-copy\n",
      "  sub.drop(['is-target','is-infector','is-informer'], inplace = True, axis =1)\n",
      "C:\\Users\\berke\\AppData\\Local\\Temp\\ipykernel_37268\\361570906.py:25: SettingWithCopyWarning: \n",
      "A value is trying to be set on a copy of a slice from a DataFrame\n",
      "\n",
      "See the caveats in the documentation: https://pandas.pydata.org/pandas-docs/stable/user_guide/indexing.html#returning-a-view-versus-a-copy\n",
      "  sub.drop(['is-target','is-infector','is-informer'], inplace = True, axis =1)\n",
      "C:\\Users\\berke\\AppData\\Local\\Temp\\ipykernel_37268\\361570906.py:52: SettingWithCopyWarning: \n",
      "A value is trying to be set on a copy of a slice from a DataFrame\n",
      "\n",
      "See the caveats in the documentation: https://pandas.pydata.org/pandas-docs/stable/user_guide/indexing.html#returning-a-view-versus-a-copy\n",
      "  infectors.drop('target', inplace = True, axis =1)\n"
     ]
    },
    {
     "name": "stdout",
     "output_type": "stream",
     "text": [
      "\n",
      "\n",
      "Added supercup to DATAFRAME\n",
      "----------------------------------------------------------------\n"
     ]
    },
    {
     "name": "stderr",
     "output_type": "stream",
     "text": [
      "C:\\Users\\berke\\AppData\\Local\\Temp\\ipykernel_37268\\361570906.py:25: SettingWithCopyWarning: \n",
      "A value is trying to be set on a copy of a slice from a DataFrame\n",
      "\n",
      "See the caveats in the documentation: https://pandas.pydata.org/pandas-docs/stable/user_guide/indexing.html#returning-a-view-versus-a-copy\n",
      "  sub.drop(['is-target','is-infector','is-informer'], inplace = True, axis =1)\n",
      "C:\\Users\\berke\\AppData\\Local\\Temp\\ipykernel_37268\\361570906.py:25: SettingWithCopyWarning: \n",
      "A value is trying to be set on a copy of a slice from a DataFrame\n",
      "\n",
      "See the caveats in the documentation: https://pandas.pydata.org/pandas-docs/stable/user_guide/indexing.html#returning-a-view-versus-a-copy\n",
      "  sub.drop(['is-target','is-infector','is-informer'], inplace = True, axis =1)\n"
     ]
    },
    {
     "name": "stdout",
     "output_type": "stream",
     "text": [
      "\n",
      "\n",
      "Added UkraineWar to DATAFRAME\n",
      "----------------------------------------------------------------\n"
     ]
    },
    {
     "name": "stderr",
     "output_type": "stream",
     "text": [
      "C:\\Users\\berke\\AppData\\Local\\Temp\\ipykernel_37268\\361570906.py:52: SettingWithCopyWarning: \n",
      "A value is trying to be set on a copy of a slice from a DataFrame\n",
      "\n",
      "See the caveats in the documentation: https://pandas.pydata.org/pandas-docs/stable/user_guide/indexing.html#returning-a-view-versus-a-copy\n",
      "  infectors.drop('target', inplace = True, axis =1)\n"
     ]
    }
   ],
   "source": [
    "\n",
    "hashtags = ['avengers','borisjohnson','blm','brexit','climatechange','covid','gaza','loveisland','monkeypox','nhs','olivianewtonjohn','supercup','UkraineWar']\n",
    "\n",
    "\n",
    "for h_i,hashtag in enumerate(hashtags):\n",
    "\n",
    "    cats = ['sentiment', 'topic', 'topic_single', 'irony', 'emoji', 'offensive','gender']\n",
    "\n",
    "    df = pd.read_csv(f'multisource_analysis/data/{hashtag}_scored_tweets.csv')\n",
    "    df.drop(['Unnamed: 0', 'text','hashtag','user_id']+cats, inplace = True, axis =1)\n",
    "\n",
    "    # readability statistics are nan when the tweet contains no text. so change these scores to 0\n",
    "    reads = ['ARI','LIX','RIX','complex_words','Coleman-Liau', 'FleschReadingEase', 'GunningFogIndex', 'LIX', 'SMOGIndex', 'RIX', 'DaleChallIndex']\n",
    "    for r in reads:\n",
    "        df[[r]] = df[[r]].fillna(value=0).copy()\n",
    "\n",
    "    cases = list(set(df['target'].tolist()))\n",
    "\n",
    "    infectors = df[df['is-target']==1]\n",
    "    informers = df[df['is-informer']==1]\n",
    "\n",
    "    n = len(infectors)\n",
    "\n",
    "    # clean a little\n",
    "    for sub in [infectors,informers]:\n",
    "        sub.drop(['is-target','is-infector','is-informer'], inplace = True, axis =1)\n",
    "\n",
    "    cols = infectors.columns.tolist()\n",
    "\n",
    "    best_formers = []\n",
    "    av_formers = []\n",
    "\n",
    "    for case_id in cases:\n",
    "\n",
    "        o_fect = infectors.copy()[infectors['target']==case_id]\n",
    "        fect = o_fect.copy().drop('target', axis=1).to_numpy()\n",
    "        o_formers = informers.copy()[informers['target']==case_id]\n",
    "        formers = o_formers.copy().drop('target', axis=1).to_numpy()\n",
    "\n",
    "        av_former = informers.copy()[informers['target']==case_id]\n",
    "        av_former = av_former.copy().drop('target', axis=1).mean().to_numpy()\n",
    "\n",
    "        # get the closest feature to the target per feature\n",
    "        best_calc = abs(fect - formers)\n",
    "        best_idx = [ np.argmin(abs(row.astype(float))) for row in best_calc.T ]\n",
    "        best_former = np.array( [form[best_idx[i]] for i,form in enumerate(formers.T) ] ) # we keeep the informer with the closer scores per feature\n",
    "        \n",
    "        av_formers.append(av_former.tolist())\n",
    "        best_formers.append(best_former.tolist())\n",
    "\n",
    "    cols.remove('target')\n",
    "\n",
    "    infectors.drop('target', inplace = True, axis =1)\n",
    "    av_informers_df = pd.DataFrame(av_formers, columns = cols)\n",
    "    best_informers_df = pd.DataFrame(best_formers, columns = cols)\n",
    "\n",
    "    infectors.insert(0,column = 'hashtag', value= [hashtag]*n )\n",
    "    av_informers_df.insert(0,column = 'hashtag', value= [hashtag]*n )\n",
    "    best_informers_df.insert(0,column = 'hashtag', value= [hashtag]*n )\n",
    "    \n",
    "\n",
    "    if h_i == 0:\n",
    "        all_infector_df = infectors\n",
    "        all_av_informer_df = av_informers_df\n",
    "        all_best_informer_df = best_informers_df\n",
    "    else:   \n",
    "        all_infector_df = pd.concat( [all_infector_df, infectors ], axis = 0 )\n",
    "        all_av_informer_df = pd.concat( [all_av_informer_df, av_informers_df ], axis = 0 )\n",
    "        all_best_informer_df = pd.concat( [all_best_informer_df, best_informers_df ], axis = 0 )\n",
    "    \n",
    "\n",
    "    \n",
    "\n",
    "    print(f'\\n\\nAdded {hashtag} to DATAFRAME\\n----------------------------------------------------------------')"
   ]
  },
  {
   "cell_type": "markdown",
   "metadata": {},
   "source": [
    "### SINGLE COLS"
   ]
  },
  {
   "cell_type": "code",
   "execution_count": 56,
   "metadata": {},
   "outputs": [],
   "source": [
    "from scipy.stats import ks_2samp\n",
    "\n",
    "av_scores = []\n",
    "best_scores = []\n",
    "\n",
    "def chunks(lst, n):\n",
    "    \"\"\"Yield successive n-sized chunks from lst.\"\"\"\n",
    "    for i in np.arange(0, len(lst), n):\n",
    "        yield lst[i:i + n]\n",
    "\n",
    "def count_range_in_list(li, min, max):\n",
    "\tctr = 0\n",
    "\tfor x in li:\n",
    "\t\tif min <= x <= max:\n",
    "\t\t\tctr += 1\n",
    "\treturn ctr\n",
    "\n",
    "bin_size = 15\n",
    "n_cols = [ f'Bin {i}' for i in range(bin_size)]\n",
    "\n",
    "for i,col in enumerate(cols):\n",
    "\n",
    "    fec = all_infector_df[col].tolist()\n",
    "    av_form = all_av_informer_df[col].tolist()\n",
    "    best_form = all_best_informer_df[col].tolist()\n",
    "\n",
    "    diffs = abs(np.array(fec)- np.array(best_form))\n",
    "    diffs = diffs*100\n",
    "\n",
    "    low = min(diffs)\n",
    "    hi = max(diffs)\n",
    "\n",
    "    # rng = list( chunks(np.arange(low,hi), 25) )\n",
    "    \n",
    "\n",
    "    rng = np.array_split(np.arange(low,hi), bin_size)\n",
    "\n",
    "    diff_bins = [ count_range_in_list(diffs, r[0], r[-1]) for r in rng]\n",
    "\n",
    "    # df[col] = diff_bins\n",
    "\n",
    "    if i ==0:\n",
    "        df = pd.DataFrame(diff_bins, columns = [col]).T\n",
    "        df.columns = n_cols\n",
    "    else:\n",
    "        df.loc[col] = diff_bins\n",
    "\n",
    "\n",
    "    # plt.hist(diffs, density=False, bins = 15, edgecolor='black')\n",
    "    # plt.ylabel('Frequency of occurence')\n",
    "    # plt.xlabel('Bin')\n",
    "    # plt.title(f'Infector and Informer Difference of feature: {col}')\n",
    "    # plt.figure(i)\n",
    "    \n",
    "    # ax = sns.histplot(data=diffs, bins=bin_size, kde = False)\n",
    "\n",
    "df.to_csv('multisource_analysis/difference_scores/tweet_diffs.csv')"
   ]
  },
  {
   "cell_type": "markdown",
   "metadata": {},
   "source": [
    "### GROUPED COLS"
   ]
  },
  {
   "cell_type": "code",
   "execution_count": null,
   "metadata": {},
   "outputs": [],
   "source": []
  }
 ],
 "metadata": {
  "kernelspec": {
   "display_name": "Python 3.9.7 ('env-pytorch')",
   "language": "python",
   "name": "python3"
  },
  "language_info": {
   "codemirror_mode": {
    "name": "ipython",
    "version": 3
   },
   "file_extension": ".py",
   "mimetype": "text/x-python",
   "name": "python",
   "nbconvert_exporter": "python",
   "pygments_lexer": "ipython3",
   "version": "3.9.7"
  },
  "orig_nbformat": 4,
  "vscode": {
   "interpreter": {
    "hash": "59556fecfb9e1650310a175ca5cd58c0b942341d9e7f74cbfe1ccb958d377f3d"
   }
  }
 },
 "nbformat": 4,
 "nbformat_minor": 2
}
